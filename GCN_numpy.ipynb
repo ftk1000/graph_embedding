{
  "nbformat": 4,
  "nbformat_minor": 0,
  "metadata": {
    "kernelspec": {
      "display_name": "Python 3",
      "language": "python",
      "name": "python3"
    },
    "language_info": {
      "codemirror_mode": {
        "name": "ipython",
        "version": 3
      },
      "file_extension": ".py",
      "mimetype": "text/x-python",
      "name": "python",
      "nbconvert_exporter": "python",
      "pygments_lexer": "ipython3",
      "version": "3.7.7"
    },
    "colab": {
      "name": "GCN_numpy.ipynb",
      "provenance": []
    }
  },
  "cells": [
    {
      "cell_type": "markdown",
      "metadata": {
        "id": "362iV5qAxMii"
      },
      "source": [
        "# Initializing the Graph"
      ]
    },
    {
      "cell_type": "code",
      "metadata": {
        "id": "q8ZmSjPbxMij"
      },
      "source": [
        "import networkx as nx\n",
        "import numpy as np\n",
        "import matplotlib.pyplot as plt\n",
        "from scipy.linalg import fractional_matrix_power\n",
        "\n",
        "# import warnings\n",
        "# warnings.filterwarnings(\"ignore\", category=UserWarning)"
      ],
      "execution_count": 1,
      "outputs": []
    },
    {
      "cell_type": "code",
      "metadata": {
        "id": "ETlcEQL3xMim",
        "outputId": "7e71dadc-e23c-4535-e312-eb6bdfc2a6f9",
        "colab": {
          "base_uri": "https://localhost:8080/",
          "height": 455
        }
      },
      "source": [
        "G = nx.Graph(name='G')\n",
        "\n",
        "for i in range(6):\n",
        "    G.add_node(i, name=i)\n",
        "\n",
        "edges = [(0, 1), (0, 2), (1, 2), (0, 3), (3, 4), (3, 5), (4, 5)]\n",
        "G.add_edges_from(edges)\n",
        "\n",
        "print('Graph Info:\\n{0}'.format(nx.info(G)))\n",
        "\n",
        "print('\\nGraph Nodes: {0}'.format(G.nodes.data()))\n",
        "\n",
        "nx.draw(G, with_labels=True, font_weight='bold')\n",
        "plt.show()"
      ],
      "execution_count": 2,
      "outputs": [
        {
          "output_type": "stream",
          "text": [
            "Graph Info:\n",
            "Name: G\n",
            "Type: Graph\n",
            "Number of nodes: 6\n",
            "Number of edges: 7\n",
            "Average degree:   2.3333\n",
            "\n",
            "Graph Nodes: [(0, {'name': 0}), (1, {'name': 1}), (2, {'name': 2}), (3, {'name': 3}), (4, {'name': 4}), (5, {'name': 5})]\n"
          ],
          "name": "stdout"
        },
        {
          "output_type": "display_data",
          "data": {
            "image/png": "[encoded data removed]",
            "text/plain": [
              "<Figure size 432x288 with 1 Axes>"
            ]
          },
          "metadata": {
            "tags": []
          }
        }
      ]
    },
    {
      "cell_type": "markdown",
      "metadata": {
        "id": "-4Pv0k1fxMio"
      },
      "source": [
        "# Adjacency Matrix"
      ]
    },
    {
      "cell_type": "code",
      "metadata": {
        "id": "g8tjFAiixMip",
        "outputId": "5b397166-2fe0-4ee9-c064-ce69d135ee52",
        "colab": {
          "base_uri": "https://localhost:8080/"
        }
      },
      "source": [
        "# Method attr_matrix()\n",
        "nx.attr_matrix(G, node_attr='name')"
      ],
      "execution_count": 3,
      "outputs": [
        {
          "output_type": "execute_result",
          "data": {
            "text/plain": [
              "(matrix([[0., 1., 1., 1., 0., 0.],\n",
              "         [1., 0., 1., 0., 0., 0.],\n",
              "         [1., 1., 0., 0., 0., 0.],\n",
              "         [1., 0., 0., 0., 1., 1.],\n",
              "         [0., 0., 0., 1., 0., 1.],\n",
              "         [0., 0., 0., 1., 1., 0.]]), [0, 1, 2, 3, 4, 5])"
            ]
          },
          "metadata": {
            "tags": []
          },
          "execution_count": 3
        }
      ]
    },
    {
      "cell_type": "code",
      "metadata": {
        "id": "SjDySErlxMir",
        "outputId": "93040177-8fba-4609-9c60-86b59096ea78",
        "colab": {
          "base_uri": "https://localhost:8080/"
        }
      },
      "source": [
        "# Adjacency Matrix (A) and Node Features Matrix (X) as numpy array\n",
        "A = np.array(nx.attr_matrix(G, node_attr='name')[0])\n",
        "X = np.array(nx.attr_matrix(G, node_attr='name')[1])\n",
        "X = np.expand_dims(X,axis=1)\n",
        "\n",
        "print('Shape of A: {0}'.format(A.shape))\n",
        "print('\\nShape of X: {0}'.format(X.shape))\n",
        "print('\\nAdjacency Matrix (A):\\n{0}'.format(A))\n",
        "print('\\nNode Features Matrix (X):\\n{0}'.format(X))"
      ],
      "execution_count": 4,
      "outputs": [
        {
          "output_type": "stream",
          "text": [
            "Shape of A: (6, 6)\n",
            "\n",
            "Shape of X: (6, 1)\n",
            "\n",
            "Adjacency Matrix (A):\n",
            "[[0. 1. 1. 1. 0. 0.]\n",
            " [1. 0. 1. 0. 0. 0.]\n",
            " [1. 1. 0. 0. 0. 0.]\n",
            " [1. 0. 0. 0. 1. 1.]\n",
            " [0. 0. 0. 1. 0. 1.]\n",
            " [0. 0. 0. 1. 1. 0.]]\n",
            "\n",
            "Node Features Matrix (X):\n",
            "[[0]\n",
            " [1]\n",
            " [2]\n",
            " [3]\n",
            " [4]\n",
            " [5]]\n"
          ],
          "name": "stdout"
        }
      ]
    },
    {
      "cell_type": "markdown",
      "metadata": {
        "id": "32pK1Vk9xMit"
      },
      "source": [
        "Скалярное произведение A и X"
      ]
    },
    {
      "cell_type": "code",
      "metadata": {
        "id": "ryD_vEnDxMit",
        "outputId": "19530b57-7930-4613-f81a-2ba997f8d7b5",
        "colab": {
          "base_uri": "https://localhost:8080/"
        }
      },
      "source": [
        "AX = np.dot(A,X)\n",
        "print('ot product of A and X (AX):\\n{0}'.format(AX))"
      ],
      "execution_count": 5,
      "outputs": [
        {
          "output_type": "stream",
          "text": [
            "ot product of A and X (AX):\n",
            "[[6.]\n",
            " [2.]\n",
            " [1.]\n",
            " [9.]\n",
            " [8.]\n",
            " [7.]]\n"
          ],
          "name": "stdout"
        }
      ]
    },
    {
      "cell_type": "markdown",
      "metadata": {
        "id": "vxY0P8XpxMiv"
      },
      "source": [
        "Дот продукт - это сумма по соседним узлам. Не учитывает сам узел."
      ]
    },
    {
      "cell_type": "markdown",
      "metadata": {
        "id": "8WYOnT8wxMiw"
      },
      "source": [
        "Как предлагается решить эту проблему? А просто добавить петли для каждой ноды. Таким образом каждая нода начнет ссылаться сама на себя"
      ]
    },
    {
      "cell_type": "code",
      "metadata": {
        "id": "x-U4fa91xMiy",
        "outputId": "35106da1-bf15-4258-90a6-75be5dec6d60",
        "colab": {
          "base_uri": "https://localhost:8080/"
        }
      },
      "source": [
        "G_self_loops = G.copy()\n",
        "\n",
        "self_loops = []\n",
        "for i in range(G.number_of_nodes()):\n",
        "    self_loops.append((i,i))\n",
        "\n",
        "G_self_loops.add_edges_from(self_loops)\n",
        "\n",
        "# Check the edges of G_self_loops after adding the self loops\n",
        "print('Edges of G with self-loops:\\n{0}'.format(G_self_loops.edges))\n",
        "\n",
        "# Adjacency Matrix (A) and Node Features Matrix (X) of self-lopps graph\n",
        "A_hat = np.array(nx.attr_matrix(G_self_loops, node_attr='name')[0])\n",
        "print('Adjacency Matrix of added self-loops G (A_hat):\\n{0}'.format(A_hat))\n",
        "\n",
        "# dot product\n",
        "AX = np.dot(A_hat, X)\n",
        "print('AX:\\n{0}'.format(AX))"
      ],
      "execution_count": 6,
      "outputs": [
        {
          "output_type": "stream",
          "text": [
            "Edges of G with self-loops:\n",
            "[(0, 1), (0, 2), (0, 3), (0, 0), (1, 2), (1, 1), (2, 2), (3, 4), (3, 5), (3, 3), (4, 5), (4, 4), (5, 5)]\n",
            "Adjacency Matrix of added self-loops G (A_hat):\n",
            "[[1. 1. 1. 1. 0. 0.]\n",
            " [1. 1. 1. 0. 0. 0.]\n",
            " [1. 1. 1. 0. 0. 0.]\n",
            " [1. 0. 0. 1. 1. 1.]\n",
            " [0. 0. 0. 1. 1. 1.]\n",
            " [0. 0. 0. 1. 1. 1.]]\n",
            "AX:\n",
            "[[ 6.]\n",
            " [ 3.]\n",
            " [ 3.]\n",
            " [12.]\n",
            " [12.]\n",
            " [12.]]\n"
          ],
          "name": "stdout"
        }
      ]
    },
    {
      "cell_type": "markdown",
      "metadata": {
        "id": "-QFd64K_xMi0"
      },
      "source": [
        "**Надо нормализовать данные**\n",
        "\n",
        "Для GCNN вычисляется матрица степеней (D) и выполняется операция скалярного произведения онвертированной D с AX (DAX). «Степень» относится к количеству ребер, с которыми связан узел."
      ]
    },
    {
      "cell_type": "markdown",
      "metadata": {
        "id": "WZYxkiaJxMi1"
      },
      "source": [
        "![](https://github.com/KonstantinKlepikov/GCN_lect/blob/main/img/034.png?raw=1)"
      ]
    },
    {
      "cell_type": "code",
      "metadata": {
        "id": "4YJXwvu5xMi2",
        "outputId": "bd64e577-a59c-4b42-edfd-08910376a7c1",
        "colab": {
          "base_uri": "https://localhost:8080/"
        }
      },
      "source": [
        "# Degree Matrix of the self-loops graph\n",
        "Deg_Mat = G_self_loops.degree()\n",
        "print('Degree Matrix of added self-loops G (D): {0}'.format(Deg_Mat))\n",
        "\n",
        "# Convert the Degree Matrix to a N x N matrix where N is the number of nodes\n",
        "D = np.diag([deg for (n,deg) in list(Deg_Mat)])\n",
        "print('Degree Matrix of added self-loops G as numpy array (D):\\n{0}'.format(D))\n",
        "\n",
        "# Inverse of Degree Matrix (D)\n",
        "D_inv = np.linalg.inv(D)\n",
        "print('Inverse of D:\\n{0}'.format(D_inv))\n",
        "\n",
        "#Dot product of D and AX for normalization\n",
        "DAX = np.dot(D_inv,AX)\n",
        "print('DAX:\\n{0}'.format(DAX))"
      ],
      "execution_count": 7,
      "outputs": [
        {
          "output_type": "stream",
          "text": [
            "Degree Matrix of added self-loops G (D): [(0, 5), (1, 4), (2, 4), (3, 5), (4, 4), (5, 4)]\n",
            "Degree Matrix of added self-loops G as numpy array (D):\n",
            "[[5 0 0 0 0 0]\n",
            " [0 4 0 0 0 0]\n",
            " [0 0 4 0 0 0]\n",
            " [0 0 0 5 0 0]\n",
            " [0 0 0 0 4 0]\n",
            " [0 0 0 0 0 4]]\n",
            "Inverse of D:\n",
            "[[0.2  0.   0.   0.   0.   0.  ]\n",
            " [0.   0.25 0.   0.   0.   0.  ]\n",
            " [0.   0.   0.25 0.   0.   0.  ]\n",
            " [0.   0.   0.   0.2  0.   0.  ]\n",
            " [0.   0.   0.   0.   0.25 0.  ]\n",
            " [0.   0.   0.   0.   0.   0.25]]\n",
            "DAX:\n",
            "[[1.2 ]\n",
            " [0.75]\n",
            " [0.75]\n",
            " [2.4 ]\n",
            " [3.  ]\n",
            " [3.  ]]\n"
          ],
          "name": "stdout"
        }
      ]
    },
    {
      "cell_type": "markdown",
      "metadata": {
        "id": "I8hQU_jIxMi5"
      },
      "source": [
        "При сравнении DAX и AX обнаруживается это:\n",
        "![](https://github.com/KonstantinKlepikov/GCN_lect/blob/main/img/032.png?raw=1)\n",
        "\n",
        "После нормализации значение на узле 3 изменилось. Это происходит из-за того, что у узда 3 больше ребер, чем у узлов 4 и 5. В результате у узла 3 выше степень и ниже вес в DAX. Порлучается, что чем ниже степень у узла, тем ближе он к какому-то кластеру узлов.\n",
        "\n",
        "Решение проблемы: [symmetric normalization](https://arxiv.org/pdf/1609.02907.pdf) - я прочитл по диагонали, там эта штука называется трюком перенормировки.\n",
        "\n",
        "![](https://github.com/KonstantinKlepikov/GCN_lect/blob/main/img/033.png?raw=1)"
      ]
    },
    {
      "cell_type": "code",
      "metadata": {
        "id": "FEV7HBFhxMi6",
        "outputId": "d8f21528-076f-4e68-9a03-f6a1026c3efb",
        "colab": {
          "base_uri": "https://localhost:8080/"
        }
      },
      "source": [
        "# Symmetrically-normalization\n",
        "D_half_norm = fractional_matrix_power(D, -0.5)\n",
        "DADX = D_half_norm.dot(A_hat).dot(D_half_norm).dot(X)\n",
        "print('DADX:\\n{0}'.format(DADX))"
      ],
      "execution_count": 8,
      "outputs": [
        {
          "output_type": "stream",
          "text": [
            "DADX:\n",
            "[[1.27082039]\n",
            " [0.75      ]\n",
            " [0.75      ]\n",
            " [2.61246118]\n",
            " [2.92082039]\n",
            " [2.92082039]]\n"
          ],
          "name": "stdout"
        }
      ]
    },
    {
      "cell_type": "markdown",
      "metadata": {
        "id": "y86YKEMyxMi7"
      },
      "source": [
        "# Weights and Activation Function\n",
        "\n",
        "Дальше просто: строится двухслойная сеть с прямым распространением. Четыре нейрона в первом слое. Два нейрона на выходе (два измеренеия). Relu"
      ]
    },
    {
      "cell_type": "code",
      "metadata": {
        "id": "v1KDmnOdxMi8",
        "outputId": "096f3e13-e517-4584-e5c2-4b2bc3faa6a8",
        "colab": {
          "base_uri": "https://localhost:8080/"
        }
      },
      "source": [
        "# Initialize the weights\n",
        "np.random.seed(77777)\n",
        "n_h = 4 #number of neurons in the hidden layer\n",
        "n_y = 2 #number of neurons in the output layer\n",
        "W0 = np.random.randn(X.shape[1],n_h) * 0.01\n",
        "W1 = np.random.randn(n_h,n_y) * 0.01\n",
        "\n",
        "#I ReLu as activation function\n",
        "def relu(x):\n",
        "    return np.maximum(0, x)\n",
        "\n",
        "# GCN layer\n",
        "def gcn(A, H, W):\n",
        "    I = np.identity(A.shape[0]) # create Identity Matrix of A\n",
        "    A_hat = A + I # add self-loop to A\n",
        "    D = np.diag(np.sum(A_hat, axis=0)) # create Degree Matrix of A\n",
        "    D_half_norm = fractional_matrix_power(D, -0.5) # calculate D to the power of -0.5 (трюк с нормализацией)\n",
        "    eq = D_half_norm.dot(A_hat).dot(D_half_norm).dot(H).dot(W)\n",
        "    return relu(eq)\n",
        "\n",
        "# Do forward propagation\n",
        "H1 = gcn(A, X, W0)\n",
        "H2 = gcn(A, H1, W1)\n",
        "print('Features Representation from GCN output:\\n{0}'.format(H2))"
      ],
      "execution_count": 9,
      "outputs": [
        {
          "output_type": "stream",
          "text": [
            "Features Representation from GCN output:\n",
            "[[0.00027758 0.        ]\n",
            " [0.00017298 0.        ]\n",
            " [0.00017298 0.        ]\n",
            " [0.00053017 0.        ]\n",
            " [0.00054097 0.        ]\n",
            " [0.00054097 0.        ]]\n"
          ],
          "name": "stdout"
        }
      ]
    },
    {
      "cell_type": "markdown",
      "metadata": {
        "id": "SDE5yU_ixMi-"
      },
      "source": [
        "# Plotting the Features Representations"
      ]
    },
    {
      "cell_type": "code",
      "metadata": {
        "id": "zk5lXxbexMi-",
        "outputId": "f1f326f8-5e55-483b-c22b-f4e8344192b3",
        "colab": {
          "base_uri": "https://localhost:8080/",
          "height": 295
        }
      },
      "source": [
        "def plot_features(H2):\n",
        "    #Plot the features representation\n",
        "    x = H2[:,0]\n",
        "    y = H2[:,1]\n",
        "\n",
        "    size = 1000\n",
        "\n",
        "    plt.scatter(x,y,size)\n",
        "    plt.xlim([np.min(x)*0.9, np.max(x)*1.1])\n",
        "    plt.ylim([-1, 1])\n",
        "    plt.xlabel('Feature Representation Dimension 0')\n",
        "    plt.ylabel('Feature Representation Dimension 1')\n",
        "    plt.title('Feature Representation')\n",
        "\n",
        "    for i,row in enumerate(H2):\n",
        "        str = \"{}\".format(i)\n",
        "        plt.annotate(str, (row[0],row[1]),fontsize=18, fontweight='bold')\n",
        "\n",
        "    plt.show()\n",
        "\n",
        "\n",
        "plot_features(H2)"
      ],
      "execution_count": 10,
      "outputs": [
        {
          "output_type": "display_data",
          "data": {
            "image/png": "[encoded data removed]",
            "text/plain": [
              "<Figure size 432x288 with 1 Axes>"
            ]
          },
          "metadata": {
            "tags": [],
            "needs_background": "light"
          }
        }
      ]
    },
    {
      "cell_type": "markdown",
      "metadata": {
        "id": "5NZ_WZvAxMjA"
      },
      "source": [
        "[источник](https://towardsdatascience.com/understanding-graph-convolutional-networks-for-node-classification-a2bfdb7aba7b)"
      ]
    },
    {
      "cell_type": "code",
      "metadata": {
        "id": "1zon5nV1xMjA",
        "outputId": "709f953b-0ea7-47ea-eead-3cd305b54b8c",
        "colab": {
          "base_uri": "https://localhost:8080/",
          "height": 455
        }
      },
      "source": [
        "G1 = nx.Graph(name='G1')\n",
        "\n",
        "for i in range(10):\n",
        "    G1.add_node(i, name=i)\n",
        "\n",
        "edges1 = [(0, 1), (0, 2), (0, 3), (1, 4), (1, 5), (4, 5), (2, 6), (2, 7), (6, 7), (3, 8), (3, 9), (8, 9)]\n",
        "G1.add_edges_from(edges1)\n",
        "\n",
        "print('Graph Info:\\n{0}'.format(nx.info(G1)))\n",
        "\n",
        "print('\\nGraph Nodes: {0}'.format(G1.nodes.data()))\n",
        "\n",
        "nx.draw(G1, with_labels=True, font_weight='bold')\n",
        "plt.show()"
      ],
      "execution_count": 11,
      "outputs": [
        {
          "output_type": "stream",
          "text": [
            "Graph Info:\n",
            "Name: G1\n",
            "Type: Graph\n",
            "Number of nodes: 10\n",
            "Number of edges: 12\n",
            "Average degree:   2.4000\n",
            "\n",
            "Graph Nodes: [(0, {'name': 0}), (1, {'name': 1}), (2, {'name': 2}), (3, {'name': 3}), (4, {'name': 4}), (5, {'name': 5}), (6, {'name': 6}), (7, {'name': 7}), (8, {'name': 8}), (9, {'name': 9})]\n"
          ],
          "name": "stdout"
        },
        {
          "output_type": "display_data",
          "data": {
            "image/png": "[encoded data removed]",
            "text/plain": [
              "<Figure size 432x288 with 1 Axes>"
            ]
          },
          "metadata": {
            "tags": []
          }
        }
      ]
    },
    {
      "cell_type": "code",
      "metadata": {
        "id": "jwHLUFEUxMjC",
        "outputId": "a76e0176-7677-4fa2-eb16-1925df0efa6b",
        "colab": {
          "base_uri": "https://localhost:8080/"
        }
      },
      "source": [
        "A1 = np.array(nx.attr_matrix(G1, node_attr='name')[0])\n",
        "X1 = np.array(nx.attr_matrix(G1, node_attr='name')[1])\n",
        "X1 = np.expand_dims(X1, axis=1)\n",
        "\n",
        "print('Shape of A1: {0}'.format(A1.shape))\n",
        "print('\\nShape of X1: {0}'.format(X1.shape))\n",
        "print('\\nAdjacency Matrix (A1):\\n{0}'.format(A1))\n",
        "print('\\nNode Features Matrix (X1):\\n{0}'.format(X1))"
      ],
      "execution_count": 12,
      "outputs": [
        {
          "output_type": "stream",
          "text": [
            "Shape of A1: (10, 10)\n",
            "\n",
            "Shape of X1: (10, 1)\n",
            "\n",
            "Adjacency Matrix (A1):\n",
            "[[0. 1. 1. 1. 0. 0. 0. 0. 0. 0.]\n",
            " [1. 0. 0. 0. 1. 1. 0. 0. 0. 0.]\n",
            " [1. 0. 0. 0. 0. 0. 1. 1. 0. 0.]\n",
            " [1. 0. 0. 0. 0. 0. 0. 0. 1. 1.]\n",
            " [0. 1. 0. 0. 0. 1. 0. 0. 0. 0.]\n",
            " [0. 1. 0. 0. 1. 0. 0. 0. 0. 0.]\n",
            " [0. 0. 1. 0. 0. 0. 0. 1. 0. 0.]\n",
            " [0. 0. 1. 0. 0. 0. 1. 0. 0. 0.]\n",
            " [0. 0. 0. 1. 0. 0. 0. 0. 0. 1.]\n",
            " [0. 0. 0. 1. 0. 0. 0. 0. 1. 0.]]\n",
            "\n",
            "Node Features Matrix (X1):\n",
            "[[0]\n",
            " [1]\n",
            " [2]\n",
            " [3]\n",
            " [4]\n",
            " [5]\n",
            " [6]\n",
            " [7]\n",
            " [8]\n",
            " [9]]\n"
          ],
          "name": "stdout"
        }
      ]
    },
    {
      "cell_type": "code",
      "metadata": {
        "id": "o5XWVJpKxMjG"
      },
      "source": [
        "n_h = 6\n",
        "n_y = 2\n",
        "W0 = np.random.randn(X1.shape[1], n_h) * 0.01\n",
        "W1 = np.random.randn(n_h, n_y) * 0.01"
      ],
      "execution_count": 13,
      "outputs": []
    },
    {
      "cell_type": "code",
      "metadata": {
        "id": "pLfWblKTxMjI",
        "outputId": "fb72f7d4-2f88-4acf-c3c0-b55d0b5a93ff",
        "colab": {
          "base_uri": "https://localhost:8080/"
        }
      },
      "source": [
        "H1 = gcn(A1, X1, W0)\n",
        "H2 = gcn(A1, H1, W1)\n",
        "print('Features Representation from GCN output:\\n{0}'.format(H2))"
      ],
      "execution_count": 14,
      "outputs": [
        {
          "output_type": "stream",
          "text": [
            "Features Representation from GCN output:\n",
            "[[0.00013893 0.00022762]\n",
            " [0.00011637 0.00019066]\n",
            " [0.00016655 0.00027288]\n",
            " [0.00021674 0.00035511]\n",
            " [0.00011749 0.0001925 ]\n",
            " [0.00011749 0.0001925 ]\n",
            " [0.00017544 0.00028745]\n",
            " [0.00017544 0.00028745]\n",
            " [0.00023339 0.00038239]\n",
            " [0.00023339 0.00038239]]\n"
          ],
          "name": "stdout"
        }
      ]
    },
    {
      "cell_type": "code",
      "metadata": {
        "id": "2gO41wo9xMjK",
        "outputId": "f8e67063-c5df-4eb3-8b8c-6bf7dca8fd9c",
        "colab": {
          "base_uri": "https://localhost:8080/",
          "height": 295
        }
      },
      "source": [
        "def plot_features(H2):\n",
        "    #Plot the features representation\n",
        "    x = H2[:,0]\n",
        "    y = H2[:,1]\n",
        "\n",
        "    size = 1000\n",
        "\n",
        "    plt.scatter(x,y,size)\n",
        "    plt.xlim([np.min(x)*0.9, np.max(x)*1.1])\n",
        "    plt.ylim([-1, 1])\n",
        "    plt.xlabel('Feature Representation Dimension 0')\n",
        "    plt.ylabel('Feature Representation Dimension 1')\n",
        "    plt.title('Feature Representation')\n",
        "\n",
        "    for i,row in enumerate(H2):\n",
        "        str = \"{}\".format(i)\n",
        "        plt.annotate(str, (row[0],row[1]),fontsize=18, fontweight='bold')\n",
        "\n",
        "    plt.show()\n",
        "\n",
        "\n",
        "plot_features(H2)"
      ],
      "execution_count": 15,
      "outputs": [
        {
          "output_type": "display_data",
          "data": {
            "image/png": "[encoded data removed]",
            "text/plain": [
              "<Figure size 432x288 with 1 Axes>"
            ]
          },
          "metadata": {
            "tags": [],
            "needs_background": "light"
          }
        }
      ]
    },
    {
      "cell_type": "code",
      "metadata": {
        "id": "4327T-HGxMjM"
      },
      "source": [
        ""
      ],
      "execution_count": null,
      "outputs": []
    }
  ]
}